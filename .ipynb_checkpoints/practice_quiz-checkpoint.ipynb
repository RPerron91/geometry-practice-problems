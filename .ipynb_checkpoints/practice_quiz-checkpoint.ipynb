{
 "cells": [
  {
   "cell_type": "markdown",
   "id": "99f51c25-47d0-4cf5-9799-e4f0f2849022",
   "metadata": {},
   "source": [
    "# Geometry Practice Problems\n",
    "### Follow the Instructions for Each Question\n",
    "#### Make sure to input your answer according to the examples given"
   ]
  },
  {
   "cell_type": "code",
   "execution_count": 1,
   "id": "b9504e65-d9f4-490d-8466-ec361702136f",
   "metadata": {},
   "outputs": [],
   "source": [
    "# Run this cell first\n",
    "import logic\n",
    "from IPython.display import Image\n"
   ]
  },
  {
   "cell_type": "markdown",
   "id": "fd08549b-7885-4f7a-a005-d762e0599d82",
   "metadata": {},
   "source": [
    "### Use the following image to answer the next two questions:\n",
    "<img src=\"./images/circle_angles.jpg\" style=\"height:400px\" />"
   ]
  },
  {
   "cell_type": "markdown",
   "id": "afd5de56-e6ea-49af-b30e-2fe37611e072",
   "metadata": {},
   "source": [
    "## Find the Central Angle"
   ]
  },
  {
   "cell_type": "code",
   "execution_count": 2,
   "id": "cb90b073-9386-4752-a18b-783307faeee7",
   "metadata": {},
   "outputs": [
    {
     "name": "stdout",
     "output_type": "stream",
     "text": [
      "What is the measure of the arc if the central angle is: 199\n"
     ]
    },
    {
     "name": "stdin",
     "output_type": "stream",
     "text": [
      "Enter the arc measure:  199\n"
     ]
    },
    {
     "name": "stdout",
     "output_type": "stream",
     "text": [
      "Congratulations, your answer is correct!\n"
     ]
    }
   ],
   "source": [
    "logic.central()"
   ]
  },
  {
   "cell_type": "markdown",
   "id": "433fa6e6-b366-4860-9945-cc4171ed0062",
   "metadata": {},
   "source": [
    "## Find the Intercepted Arc or Inscribed Angle"
   ]
  },
  {
   "cell_type": "code",
   "execution_count": 3,
   "id": "95e5d0c0-d2a3-48e0-85b4-343548392598",
   "metadata": {},
   "outputs": [
    {
     "name": "stdout",
     "output_type": "stream",
     "text": [
      "What is the inscribed angle if the arc measure is: 70\n"
     ]
    },
    {
     "name": "stdin",
     "output_type": "stream",
     "text": [
      "Enter the inscribed angle:  35\n"
     ]
    },
    {
     "name": "stdout",
     "output_type": "stream",
     "text": [
      "Congratulations, your answer is correct!\n"
     ]
    }
   ],
   "source": [
    "logic.intercepted()"
   ]
  },
  {
   "cell_type": "markdown",
   "id": "e42d9635-08a7-4f20-bdb8-8a49e645ead8",
   "metadata": {},
   "source": [
    "## What is the Exterior Angle?\n",
    "<br>(Image Not Drawn to Scale)<br>\n",
    "<img src=\"./images/exterior_example.jpg\" style=\"height:400px\" />"
   ]
  },
  {
   "cell_type": "code",
   "execution_count": 3,
   "id": "86cf22e1-c129-49d2-b0cf-ae290daf5497",
   "metadata": {},
   "outputs": [
    {
     "name": "stdin",
     "output_type": "stream",
     "text": [
      "What is the exterior angle of a circle formed by two arcs measuring 152° and 76°?  38\n"
     ]
    },
    {
     "name": "stdout",
     "output_type": "stream",
     "text": [
      "Congratulations, your answer is correct!\n"
     ]
    }
   ],
   "source": [
    "logic.exterior_angle()"
   ]
  },
  {
   "cell_type": "markdown",
   "id": "346dd5b2-64e3-4fe0-8426-dff593d19661",
   "metadata": {},
   "source": [
    "## Find the Interior Angles\n",
    "<br>(Image Not Drawn to Scale)<br>\n",
    "<img src=\"./images/interior_example.jpg\" style=\"height:400px\" />"
   ]
  },
  {
   "cell_type": "code",
   "execution_count": 4,
   "id": "02bc69c3-70d3-4131-ba44-3a6f8d6e05bf",
   "metadata": {},
   "outputs": [
    {
     "name": "stdout",
     "output_type": "stream",
     "text": [
      "Find all angle measures, given arc QR = 164 and arc ST = 140\n"
     ]
    },
    {
     "name": "stdin",
     "output_type": "stream",
     "text": [
      "Angle RVS:  28\n",
      "Angle SVT:  152\n",
      "Angle TVQ:  28\n",
      "Angle QVR:  152\n"
     ]
    },
    {
     "name": "stdout",
     "output_type": "stream",
     "text": [
      "Congratulations, your answer is correct!\n"
     ]
    }
   ],
   "source": [
    "logic.interior_angles()"
   ]
  },
  {
   "cell_type": "markdown",
   "id": "6487c209-75e4-4f36-803d-fa28b0eb93ab",
   "metadata": {},
   "source": [
    "## Complete the Square"
   ]
  },
  {
   "cell_type": "code",
   "execution_count": 2,
   "id": "ebff819b-86fb-4e33-b206-fb1ded55eed2",
   "metadata": {},
   "outputs": [
    {
     "name": "stdout",
     "output_type": "stream",
     "text": [
      "Complete the square for the formula: 4x^2 + 32x + 92 = 0\n",
      "Your answer will be based on this format: a(x+b)^2 + c\n",
      "If a, b, or c equal 1 or 0, please enter those values\n"
     ]
    },
    {
     "name": "stdin",
     "output_type": "stream",
     "text": [
      "a:  4\n",
      "b:  4\n",
      "c:  28\n"
     ]
    },
    {
     "name": "stdout",
     "output_type": "stream",
     "text": [
      "Congratulations, your answer is correct\n"
     ]
    }
   ],
   "source": [
    "logic.complete_squares()"
   ]
  },
  {
   "cell_type": "markdown",
   "id": "2a7e14f7-a944-4b26-b7a8-99d6926569c7",
   "metadata": {},
   "source": [
    "### Use the following image to answer the next two questions:\n",
    "<img src=\"./images/formula_circle.jpg\" style=\"height:400px\" />"
   ]
  },
  {
   "cell_type": "markdown",
   "id": "fe7f48f3-7c63-4b5b-bf79-d6e49af056db",
   "metadata": {},
   "source": [
    "## Find the Center and Radius"
   ]
  },
  {
   "cell_type": "code",
   "execution_count": 2,
   "id": "bb699177-6256-470c-953e-0845c5afc713",
   "metadata": {},
   "outputs": [
    {
     "name": "stdout",
     "output_type": "stream",
     "text": [
      "Find the Center and Radius for a circle with the Formula: 1x^2 + -64x + 1y^2 + -2y + 64 = 0\n",
      "Your answer for the Center point is based on the format the format: (h, k)\n",
      "All Numbers will be rounded to the tenth place\n",
      "Radius will be the absolute value\n"
     ]
    },
    {
     "name": "stdin",
     "output_type": "stream",
     "text": [
      "h:  32.0\n",
      "k:  1.0\n",
      "Radius:  31.0\n"
     ]
    },
    {
     "name": "stdout",
     "output_type": "stream",
     "text": [
      "Your answer is correct!!!\n"
     ]
    }
   ],
   "source": [
    "logic.center_circle()"
   ]
  },
  {
   "cell_type": "markdown",
   "id": "a6c06337-a624-4695-977c-829f89d85d64",
   "metadata": {},
   "source": [
    "## Circle Formula"
   ]
  },
  {
   "cell_type": "code",
   "execution_count": 3,
   "id": "be39a052-5b93-4638-aa19-e75d4224512e",
   "metadata": {},
   "outputs": [
    {
     "name": "stdout",
     "output_type": "stream",
     "text": [
      "Given a circle with center (5, 6) and radius 9, please provide its equation.\n",
      "With the equation in the format: x^2 + Ax + y^2 + By + C = 0\n",
      "Enter values for letters A-C\n"
     ]
    },
    {
     "name": "stdin",
     "output_type": "stream",
     "text": [
      "A:  -10\n",
      "B:  -12\n",
      "C:  -20\n"
     ]
    },
    {
     "name": "stdout",
     "output_type": "stream",
     "text": [
      "Congratulations, your answer is correct!\n"
     ]
    }
   ],
   "source": [
    "logic.circle_formula()"
   ]
  },
  {
   "cell_type": "markdown",
   "id": "54bb4a3b-86b3-42f8-bc04-3babca0e974a",
   "metadata": {},
   "source": [
    "### Distance and Midpoints\n",
    "<img src=\"./images/distance.jpg\" style=\"height:400px\" />"
   ]
  },
  {
   "cell_type": "markdown",
   "id": "8737bd76-d8a9-4b92-b1e4-3331b204122e",
   "metadata": {},
   "source": [
    "## Distance"
   ]
  },
  {
   "cell_type": "code",
   "execution_count": 4,
   "id": "1be9940f-51a0-42e0-9dc1-eca04ad82f1d",
   "metadata": {},
   "outputs": [
    {
     "name": "stdout",
     "output_type": "stream",
     "text": [
      "What is the distance between points (5, -10) and (-2,1)?\n",
      "Round your answer to two decimal places\n"
     ]
    },
    {
     "name": "stdin",
     "output_type": "stream",
     "text": [
      "Distance:  13.04\n"
     ]
    },
    {
     "name": "stdout",
     "output_type": "stream",
     "text": [
      "Congratulations, your answer is correct!\n"
     ]
    }
   ],
   "source": [
    "logic.find_distance()"
   ]
  },
  {
   "cell_type": "markdown",
   "id": "892bc911-90dd-4fda-851a-23af75ff676f",
   "metadata": {},
   "source": [
    "## Midpoint"
   ]
  },
  {
   "cell_type": "code",
   "execution_count": 5,
   "id": "7df9b929-c78e-4f36-8e63-8426865ca532",
   "metadata": {},
   "outputs": [
    {
     "name": "stdout",
     "output_type": "stream",
     "text": [
      "What is the midpoint between points (-10, -10) and (-10,-6)?\n",
      "Type in the X and Y values for that point\n"
     ]
    },
    {
     "name": "stdin",
     "output_type": "stream",
     "text": [
      "X:  -10\n",
      "Y:  -8\n"
     ]
    },
    {
     "name": "stdout",
     "output_type": "stream",
     "text": [
      "Congratulations, your answer is correct!\n"
     ]
    }
   ],
   "source": [
    "logic.find_midpoint()"
   ]
  },
  {
   "cell_type": "markdown",
   "id": "39a70787-74b7-41dc-a69c-eda1c76ba244",
   "metadata": {},
   "source": [
    "# Bonus Section:\n",
    "#### The Secant Tangent Segment formula combines logic from a few of the lessons learned throughout your course, but is not directly covered in the coursework so far. Use this section for extra practice\n",
    "<br>Image not drawn to scale<br>\n",
    "<img src=\"./images/sec_tan.jpg\" style=\"height:400px\" />\n",
    "\n",
    "<br>\n",
    "<br>\n",
    "\n",
    "## Segment A = line UV\n",
    "## Segment B = line UX\n",
    "## Segment C = line XY"
   ]
  },
  {
   "cell_type": "code",
   "execution_count": 3,
   "id": "c7753a3b-5c34-4952-91ad-e8bdc4955164",
   "metadata": {},
   "outputs": [
    {
     "name": "stdout",
     "output_type": "stream",
     "text": [
      "In a tangent-secant segment theorem scenario, segments B and A measure 8 and 16 respectively. What is the measure of segment C?\n"
     ]
    },
    {
     "name": "stdin",
     "output_type": "stream",
     "text": [
      "Round Answer to Nearest Tenth Place:  24.0\n"
     ]
    },
    {
     "name": "stdout",
     "output_type": "stream",
     "text": [
      "Congratulations, your answer is correct!\n"
     ]
    }
   ],
   "source": [
    "logic.bonus_tangent_secant_segment()"
   ]
  },
  {
   "cell_type": "code",
   "execution_count": null,
   "id": "8cb1b31a-981c-49d3-b859-9ce7cef35cad",
   "metadata": {},
   "outputs": [],
   "source": []
  }
 ],
 "metadata": {
  "kernelspec": {
   "display_name": "Python 3 (ipykernel)",
   "language": "python",
   "name": "python3"
  },
  "language_info": {
   "codemirror_mode": {
    "name": "ipython",
    "version": 3
   },
   "file_extension": ".py",
   "mimetype": "text/x-python",
   "name": "python",
   "nbconvert_exporter": "python",
   "pygments_lexer": "ipython3",
   "version": "3.10.0"
  }
 },
 "nbformat": 4,
 "nbformat_minor": 5
}

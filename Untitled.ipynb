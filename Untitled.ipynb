{
 "cells": [
  {
   "cell_type": "markdown",
   "id": "99f51c25-47d0-4cf5-9799-e4f0f2849022",
   "metadata": {},
   "source": [
    "# Geometry Practice Problems\n",
    "### Follow the Instructions for Each Question\n",
    "#### Make sure to input your answer according to the examples given"
   ]
  },
  {
   "cell_type": "code",
   "execution_count": null,
   "id": "b9504e65-d9f4-490d-8466-ec361702136f",
   "metadata": {},
   "outputs": [],
   "source": []
  },
  {
   "cell_type": "code",
   "execution_count": null,
   "id": "cb90b073-9386-4752-a18b-783307faeee7",
   "metadata": {},
   "outputs": [],
   "source": []
  }
 ],
 "metadata": {
  "kernelspec": {
   "display_name": "Python 3 (ipykernel)",
   "language": "python",
   "name": "python3"
  },
  "language_info": {
   "codemirror_mode": {
    "name": "ipython",
    "version": 3
   },
   "file_extension": ".py",
   "mimetype": "text/x-python",
   "name": "python",
   "nbconvert_exporter": "python",
   "pygments_lexer": "ipython3",
   "version": "3.10.0"
  }
 },
 "nbformat": 4,
 "nbformat_minor": 5
}
